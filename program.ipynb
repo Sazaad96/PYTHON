{
 "cells": [
  {
   "cell_type": "code",
   "execution_count": 2,
   "source": [
    "name = input(\"Enter You Name: \")\r\n",
    "print(\"Greetings! \", name)"
   ],
   "outputs": [
    {
     "output_type": "stream",
     "name": "stdout",
     "text": [
      "Greetings!  Sazzad\n"
     ]
    }
   ],
   "metadata": {}
  },
  {
   "cell_type": "code",
   "execution_count": 3,
   "source": [
    "import keyword\r\n",
    "keyword.kwlist"
   ],
   "outputs": [
    {
     "output_type": "execute_result",
     "data": {
      "text/plain": [
       "['False',\n",
       " 'None',\n",
       " 'True',\n",
       " '__peg_parser__',\n",
       " 'and',\n",
       " 'as',\n",
       " 'assert',\n",
       " 'async',\n",
       " 'await',\n",
       " 'break',\n",
       " 'class',\n",
       " 'continue',\n",
       " 'def',\n",
       " 'del',\n",
       " 'elif',\n",
       " 'else',\n",
       " 'except',\n",
       " 'finally',\n",
       " 'for',\n",
       " 'from',\n",
       " 'global',\n",
       " 'if',\n",
       " 'import',\n",
       " 'in',\n",
       " 'is',\n",
       " 'lambda',\n",
       " 'nonlocal',\n",
       " 'not',\n",
       " 'or',\n",
       " 'pass',\n",
       " 'raise',\n",
       " 'return',\n",
       " 'try',\n",
       " 'while',\n",
       " 'with',\n",
       " 'yield']"
      ]
     },
     "metadata": {},
     "execution_count": 3
    }
   ],
   "metadata": {}
  },
  {
   "cell_type": "markdown",
   "source": [
    "## Variables"
   ],
   "metadata": {}
  },
  {
   "cell_type": "code",
   "execution_count": 4,
   "source": [
    "## String\r\n",
    "\r\n",
    "name = 'Happy'\r\n",
    "type(name)\r\n",
    "name + '@'\r\n",
    "name * 4\r\n",
    "# name/'happy'\r\n",
    "\r\n",
    "## String Functions\r\n",
    "name.upper()\r\n",
    "name.lower()\r\n",
    "name.capitalize()\r\n",
    "name.count('p')\r\n",
    "name.split('p')\r\n",
    "name.replace('p','@')\r\n",
    "\r\n",
    "print(name.upper(), name.lower())"
   ],
   "outputs": [
    {
     "output_type": "stream",
     "name": "stdout",
     "text": [
      "HAPPY happy\n"
     ]
    }
   ],
   "metadata": {}
  },
  {
   "cell_type": "code",
   "execution_count": 5,
   "source": [
    "## Number\r\n",
    "# int\r\n",
    "age = 24\r\n",
    "type(age)\r\n",
    "\r\n",
    "## Float\r\n",
    "weight = 55.5\r\n",
    "type(weight)\r\n",
    "\r\n",
    "## Boolean\r\n",
    "is_married = False\r\n",
    "type(is_married)\r\n",
    "\r\n",
    "## Complex\r\n",
    "com = 2+3j\r\n",
    "type(com)"
   ],
   "outputs": [
    {
     "output_type": "execute_result",
     "data": {
      "text/plain": [
       "complex"
      ]
     },
     "metadata": {},
     "execution_count": 5
    }
   ],
   "metadata": {}
  },
  {
   "cell_type": "code",
   "execution_count": 6,
   "source": [
    "## Type Conversion\r\n",
    "n1 = 'H'\r\n",
    "n = '2'\r\n",
    "print(type(n))\r\n",
    "newN = int(n)\r\n",
    "type(newN)\r\n",
    "\r\n",
    "fn = float(newN)\r\n",
    "print(fn)\r\n",
    "\r\n",
    "bn = bool(fn)\r\n",
    "print(bn)\r\n",
    "bool(' ')\r\n",
    "\r\n",
    "c = complex(2)\r\n",
    "str(c)"
   ],
   "outputs": [
    {
     "output_type": "stream",
     "name": "stdout",
     "text": [
      "<class 'str'>\n",
      "2.0\n",
      "True\n"
     ]
    },
    {
     "output_type": "execute_result",
     "data": {
      "text/plain": [
       "'(2+0j)'"
      ]
     },
     "metadata": {},
     "execution_count": 6
    }
   ],
   "metadata": {}
  },
  {
   "cell_type": "code",
   "execution_count": 7,
   "source": [
    "## \r\n",
    "name = input('Enter Name: ')\r\n",
    "age = int(input('Enter Your age: '))\r\n",
    "weight = float(input('Enter Your Weight: '))\r\n",
    "print('Your Account Created Seuccessfully!')\r\n",
    "type(age),type(weight)"
   ],
   "outputs": [
    {
     "output_type": "stream",
     "name": "stdout",
     "text": [
      "Your Account Created Seuccessfully!\n"
     ]
    },
    {
     "output_type": "execute_result",
     "data": {
      "text/plain": [
       "(int, float)"
      ]
     },
     "metadata": {},
     "execution_count": 7
    }
   ],
   "metadata": {}
  },
  {
   "cell_type": "code",
   "execution_count": 8,
   "source": [
    "## How to use print\r\n",
    "print(\"hello\"+' Welcome' +str(8))\r\n",
    "# \"Book\"- Austing\r\n",
    "print('\"Book\"-\\n Austing', end='@@@@@')\r\n",
    "print('\\t Welcome')"
   ],
   "outputs": [
    {
     "output_type": "stream",
     "name": "stdout",
     "text": [
      "hello Welcome8\n",
      "\"Book\"-\n",
      " Austing@@@@@\t Welcome\n"
     ]
    }
   ],
   "metadata": {}
  },
  {
   "cell_type": "code",
   "execution_count": 9,
   "source": [
    "## String formating\r\n",
    "print(name,'Your Account ',age,'Created Seuccessfully!', age, weight)\r\n",
    "#1\r\n",
    "print('{1} Your Account {0} Created {2} Seuccessfully!'.format(name,age,weight))\r\n",
    "\r\n",
    "#2\r\n",
    "print('%s Your Account %d Created %.1f Seuccessfully!' %(name,age,weight))\r\n",
    "\r\n",
    "#3\r\n",
    "print(f'{name} Your Account {age+1} Created {weight} Seuccessfully!')\r\n"
   ],
   "outputs": [
    {
     "output_type": "stream",
     "name": "stdout",
     "text": [
      "Sazzad Your Account  25 Created Seuccessfully! 25 55.0\n",
      "25 Your Account Sazzad Created 55.0 Seuccessfully!\n",
      "Sazzad Your Account 25 Created 55.0 Seuccessfully!\n",
      "Sazzad Your Account 26 Created 55.0 Seuccessfully!\n"
     ]
    }
   ],
   "metadata": {}
  },
  {
   "cell_type": "code",
   "execution_count": 1,
   "source": [
    "## DAY3"
   ],
   "outputs": [],
   "metadata": {}
  }
 ],
 "metadata": {
  "orig_nbformat": 4,
  "language_info": {
   "name": "python",
   "version": "3.9.7",
   "mimetype": "text/x-python",
   "codemirror_mode": {
    "name": "ipython",
    "version": 3
   },
   "pygments_lexer": "ipython3",
   "nbconvert_exporter": "python",
   "file_extension": ".py"
  },
  "kernelspec": {
   "name": "python3",
   "display_name": "Python 3.9.7 64-bit"
  },
  "interpreter": {
   "hash": "50ad7c0967b9900f49bccd09c84ffc39338d261b56e9cc2e59f57414ff7c58f5"
  }
 },
 "nbformat": 4,
 "nbformat_minor": 2
}